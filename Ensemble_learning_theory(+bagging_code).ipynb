{
 "cells": [
  {
   "cell_type": "code",
   "execution_count": 1,
   "id": "cb544a37-fa89-4455-9738-6bbc22351dc2",
   "metadata": {},
   "outputs": [],
   "source": [
    "# Ensemble learning is a machine learning technique that involves combining multiple individual models, known as base learners, \n",
    "# to make predictions or decisions. The main idea behind ensemble learning is that by combining the predictions of multiple models, \n",
    "# the overall performance can be improved compared to using a single model.\n",
    "    \n",
    "# Ensemble learning can be used for both classification and regression problems, and it is particularly effective when the base learners are diverse and \n",
    "# make different types of errors. There are several popular ensemble methods, including bagging, boosting, and stacking. Let's explore each of them in more \n",
    "# detail:\n",
    "\n",
    "# (1). Bagging: Bagging stands for Bootstrap Aggregating. It involves creating multiple subsets of the training data through \n",
    "#     bootstrapping (sampling with replacement), training a separate base learner on each subset, and then combining their predictions. \n",
    "#     The most common example of bagging is the Random Forest algorithm, which combines multiple decision trees.\n",
    "\n",
    "# (2). Boosting: Boosting is an iterative ensemble method that focuses on training weak learners sequentially and giving more importance to the \n",
    "#     instances that were misclassified by previous learners. In boosting, each base learner is trained to correct the mistakes made by the previous \n",
    "#     learners. Examples of boosting algorithms include AdaBoost, Gradient Boosting, and XGBoost."
   ]
  },
  {
   "cell_type": "code",
   "execution_count": 5,
   "id": "361274b1-fa2f-4ab8-b2f1-b2177bfa2564",
   "metadata": {},
   "outputs": [],
   "source": [
    "import numpy as np\n",
    "from sklearn.ensemble import RandomForestClassifier\n",
    "from sklearn.datasets import make_classification\n",
    "from sklearn.model_selection import train_test_split\n",
    "from sklearn.metrics import accuracy_score"
   ]
  },
  {
   "cell_type": "code",
   "execution_count": 7,
   "id": "f87fb080-2d99-461d-9f39-3e03fa0ad573",
   "metadata": {},
   "outputs": [],
   "source": [
    "# Generate a synthetic dataset\n",
    "\n",
    "X, y = make_classification(n_samples=1000, n_features=20, random_state=42)"
   ]
  },
  {
   "cell_type": "code",
   "execution_count": 9,
   "id": "e4d10406-0798-4635-9682-874a5f9de691",
   "metadata": {},
   "outputs": [],
   "source": [
    "#Split the dataset into training and testing sets\n",
    "\n",
    "X_train, X_test, y_train, y_test = train_test_split(X, y, test_size=0.2, random_state=42)"
   ]
  },
  {
   "cell_type": "code",
   "execution_count": 15,
   "id": "017b229b-ccdd-42a7-9ad0-051fdec3ca91",
   "metadata": {},
   "outputs": [
    {
     "name": "stdout",
     "output_type": "stream",
     "text": [
      "Ensemble Accuracy: 0.87\n"
     ]
    }
   ],
   "source": [
    "# Initialize a list to store the base learners\n",
    "base_learners = []\n",
    "\n",
    "# Number of base Learners (decision trees)\n",
    "num_base_learners = 10\n",
    "\n",
    "#Train the base learners\n",
    "\n",
    "for i in range(num_base_learners):\n",
    "    # Create a bootstrap sample of the training data\n",
    "    bootstrap_indices = np.random.choice(len(X_train),\n",
    "                                         size=len(X_train),replace=True)\n",
    "    X_bootstrap = X_train [bootstrap_indices]\n",
    "    y_bootstrap = y_train [bootstrap_indices]\n",
    "    \n",
    "    # Create and train a base learner (Random Forest)\n",
    "    base_learner = RandomForestClassifier(n_estimators=10, random_state=42)\n",
    "    base_learner.fit(X_bootstrap, y_bootstrap)\n",
    "\n",
    "    #Add the trained base learner to the list\n",
    "    base_learners.append(base_learner)\n",
    "\n",
    "#Make predictions with each base learner\n",
    "base_predictions=[]\n",
    "for base_learner in base_learners:\n",
    "    y_pred=base_learner.predict(X_test)\n",
    "    base_predictions.append(y_pred)\n",
    "\n",
    "#Combine the predictions using majority voting\n",
    "ensemble_predictions=np.round(np.mean(base_predictions, axis=0))\n",
    "accuracy=accuracy_score(y_test,ensemble_predictions)\n",
    "print(\"Ensemble Accuracy:\", accuracy)"
   ]
  },
  {
   "cell_type": "code",
   "execution_count": null,
   "id": "d2eab463-a2ab-4ff0-9557-b623db61099e",
   "metadata": {},
   "outputs": [],
   "source": []
  }
 ],
 "metadata": {
  "kernelspec": {
   "display_name": "Python 3 (ipykernel)",
   "language": "python",
   "name": "python3"
  },
  "language_info": {
   "codemirror_mode": {
    "name": "ipython",
    "version": 3
   },
   "file_extension": ".py",
   "mimetype": "text/x-python",
   "name": "python",
   "nbconvert_exporter": "python",
   "pygments_lexer": "ipython3",
   "version": "3.12.4"
  }
 },
 "nbformat": 4,
 "nbformat_minor": 5
}
