{
 "cells": [
  {
   "cell_type": "markdown",
   "id": "b50c634e-e000-47a4-8c39-44504cb9d1f9",
   "metadata": {},
   "source": [
    "# Gradient Descent Optimization"
   ]
  },
  {
   "cell_type": "code",
   "execution_count": 38,
   "id": "65b1afe0-09d9-4f2d-9d27-170a0e35d4e4",
   "metadata": {},
   "outputs": [],
   "source": [
    "import numpy as np\n",
    "import pandas as pd"
   ]
  },
  {
   "cell_type": "code",
   "execution_count": 39,
   "id": "dbf9aff6-7996-499c-91cf-e14eba9b1d64",
   "metadata": {},
   "outputs": [
    {
     "data": {
      "text/html": [
       "<div>\n",
       "<style scoped>\n",
       "    .dataframe tbody tr th:only-of-type {\n",
       "        vertical-align: middle;\n",
       "    }\n",
       "\n",
       "    .dataframe tbody tr th {\n",
       "        vertical-align: top;\n",
       "    }\n",
       "\n",
       "    .dataframe thead th {\n",
       "        text-align: right;\n",
       "    }\n",
       "</style>\n",
       "<table border=\"1\" class=\"dataframe\">\n",
       "  <thead>\n",
       "    <tr style=\"text-align: right;\">\n",
       "      <th></th>\n",
       "      <th>Age</th>\n",
       "      <th>Gender</th>\n",
       "      <th>Marital Status</th>\n",
       "      <th>Education Level</th>\n",
       "      <th>Employment Status</th>\n",
       "      <th>Credit Utilization Ratio</th>\n",
       "      <th>Payment History</th>\n",
       "      <th>Number of Credit Accounts</th>\n",
       "      <th>Loan Amount</th>\n",
       "      <th>Interest Rate</th>\n",
       "      <th>Loan Term</th>\n",
       "      <th>Type of Loan</th>\n",
       "    </tr>\n",
       "  </thead>\n",
       "  <tbody>\n",
       "    <tr>\n",
       "      <th>0</th>\n",
       "      <td>60</td>\n",
       "      <td>Male</td>\n",
       "      <td>Married</td>\n",
       "      <td>Master</td>\n",
       "      <td>Employed</td>\n",
       "      <td>0.22</td>\n",
       "      <td>2685.0</td>\n",
       "      <td>2</td>\n",
       "      <td>4675000</td>\n",
       "      <td>2.65</td>\n",
       "      <td>48</td>\n",
       "      <td>Personal Loan</td>\n",
       "    </tr>\n",
       "    <tr>\n",
       "      <th>1</th>\n",
       "      <td>25</td>\n",
       "      <td>Male</td>\n",
       "      <td>Married</td>\n",
       "      <td>High School</td>\n",
       "      <td>Unemployed</td>\n",
       "      <td>0.20</td>\n",
       "      <td>2371.0</td>\n",
       "      <td>9</td>\n",
       "      <td>3619000</td>\n",
       "      <td>5.19</td>\n",
       "      <td>60</td>\n",
       "      <td>Auto Loan</td>\n",
       "    </tr>\n",
       "    <tr>\n",
       "      <th>2</th>\n",
       "      <td>30</td>\n",
       "      <td>Female</td>\n",
       "      <td>Single</td>\n",
       "      <td>Master</td>\n",
       "      <td>Employed</td>\n",
       "      <td>0.22</td>\n",
       "      <td>2771.0</td>\n",
       "      <td>6</td>\n",
       "      <td>957000</td>\n",
       "      <td>2.76</td>\n",
       "      <td>12</td>\n",
       "      <td>Auto Loan</td>\n",
       "    </tr>\n",
       "  </tbody>\n",
       "</table>\n",
       "</div>"
      ],
      "text/plain": [
       "   Age  Gender Marital Status Education Level Employment Status  \\\n",
       "0   60    Male        Married          Master          Employed   \n",
       "1   25    Male        Married     High School        Unemployed   \n",
       "2   30  Female         Single          Master          Employed   \n",
       "\n",
       "   Credit Utilization Ratio  Payment History  Number of Credit Accounts  \\\n",
       "0                      0.22           2685.0                          2   \n",
       "1                      0.20           2371.0                          9   \n",
       "2                      0.22           2771.0                          6   \n",
       "\n",
       "   Loan Amount  Interest Rate  Loan Term   Type of Loan  \n",
       "0      4675000           2.65         48  Personal Loan  \n",
       "1      3619000           5.19         60      Auto Loan  \n",
       "2       957000           2.76         12      Auto Loan  "
      ]
     },
     "execution_count": 39,
     "metadata": {},
     "output_type": "execute_result"
    }
   ],
   "source": [
    "df = pd.read_csv(\"credit_scoring.csv\")\n",
    "df.head(3)"
   ]
  },
  {
   "cell_type": "code",
   "execution_count": 40,
   "id": "7d3b7581-8e39-4576-ac01-5c8db98c0c85",
   "metadata": {},
   "outputs": [],
   "source": [
    "from sklearn.preprocessing import LabelEncoder, StandardScaler"
   ]
  },
  {
   "cell_type": "code",
   "execution_count": 41,
   "id": "17836847-298e-4155-9d84-aa12f119abe6",
   "metadata": {},
   "outputs": [
    {
     "data": {
      "text/plain": [
       "Age                          0\n",
       "Gender                       0\n",
       "Marital Status               0\n",
       "Education Level              0\n",
       "Employment Status            0\n",
       "Credit Utilization Ratio     0\n",
       "Payment History              0\n",
       "Number of Credit Accounts    0\n",
       "Loan Amount                  0\n",
       "Interest Rate                0\n",
       "Loan Term                    0\n",
       "Type of Loan                 0\n",
       "dtype: int64"
      ]
     },
     "execution_count": 41,
     "metadata": {},
     "output_type": "execute_result"
    }
   ],
   "source": [
    "df.isnull().sum()"
   ]
  },
  {
   "cell_type": "code",
   "execution_count": 42,
   "id": "9f35a92f-5299-445f-b238-0693e3ffd094",
   "metadata": {},
   "outputs": [
    {
     "data": {
      "text/html": [
       "<div>\n",
       "<style scoped>\n",
       "    .dataframe tbody tr th:only-of-type {\n",
       "        vertical-align: middle;\n",
       "    }\n",
       "\n",
       "    .dataframe tbody tr th {\n",
       "        vertical-align: top;\n",
       "    }\n",
       "\n",
       "    .dataframe thead th {\n",
       "        text-align: right;\n",
       "    }\n",
       "</style>\n",
       "<table border=\"1\" class=\"dataframe\">\n",
       "  <thead>\n",
       "    <tr style=\"text-align: right;\">\n",
       "      <th></th>\n",
       "      <th>Age</th>\n",
       "      <th>Gender</th>\n",
       "      <th>Marital Status</th>\n",
       "      <th>Education Level</th>\n",
       "      <th>Employment Status</th>\n",
       "      <th>Credit Utilization Ratio</th>\n",
       "      <th>Payment History</th>\n",
       "      <th>Number of Credit Accounts</th>\n",
       "      <th>Loan Amount</th>\n",
       "      <th>Interest Rate</th>\n",
       "      <th>Loan Term</th>\n",
       "      <th>Type of Loan</th>\n",
       "    </tr>\n",
       "  </thead>\n",
       "  <tbody>\n",
       "    <tr>\n",
       "      <th>0</th>\n",
       "      <td>60</td>\n",
       "      <td>Male</td>\n",
       "      <td>Married</td>\n",
       "      <td>Master</td>\n",
       "      <td>Employed</td>\n",
       "      <td>0.22</td>\n",
       "      <td>2685.0</td>\n",
       "      <td>2</td>\n",
       "      <td>4675000</td>\n",
       "      <td>2.65</td>\n",
       "      <td>48</td>\n",
       "      <td>Personal Loan</td>\n",
       "    </tr>\n",
       "    <tr>\n",
       "      <th>1</th>\n",
       "      <td>25</td>\n",
       "      <td>Male</td>\n",
       "      <td>Married</td>\n",
       "      <td>High School</td>\n",
       "      <td>Unemployed</td>\n",
       "      <td>0.20</td>\n",
       "      <td>2371.0</td>\n",
       "      <td>9</td>\n",
       "      <td>3619000</td>\n",
       "      <td>5.19</td>\n",
       "      <td>60</td>\n",
       "      <td>Auto Loan</td>\n",
       "    </tr>\n",
       "  </tbody>\n",
       "</table>\n",
       "</div>"
      ],
      "text/plain": [
       "   Age Gender Marital Status Education Level Employment Status  \\\n",
       "0   60   Male        Married          Master          Employed   \n",
       "1   25   Male        Married     High School        Unemployed   \n",
       "\n",
       "   Credit Utilization Ratio  Payment History  Number of Credit Accounts  \\\n",
       "0                      0.22           2685.0                          2   \n",
       "1                      0.20           2371.0                          9   \n",
       "\n",
       "   Loan Amount  Interest Rate  Loan Term   Type of Loan  \n",
       "0      4675000           2.65         48  Personal Loan  \n",
       "1      3619000           5.19         60      Auto Loan  "
      ]
     },
     "execution_count": 42,
     "metadata": {},
     "output_type": "execute_result"
    }
   ],
   "source": [
    "df.head(2)"
   ]
  },
  {
   "cell_type": "code",
   "execution_count": 43,
   "id": "cd93d701-5956-47a6-9117-a83c582759ee",
   "metadata": {},
   "outputs": [],
   "source": [
    "lb = LabelEncoder()\n",
    "df[\"Gender\"] = lb.fit_transform(df[\"Gender\"])\n",
    "df[\"Marital Status\"] = lb.fit_transform(df[\"Marital Status\"])\n",
    "df[\"Education Level\"] = lb.fit_transform(df[\"Education Level\"])\n",
    "df[\"Employment Status\"] = lb.fit_transform(df[\"Employment Status\"])\n",
    "df[\"Type of Loan\"] = lb.fit_transform(df[\"Type of Loan\"])\n"
   ]
  },
  {
   "cell_type": "code",
   "execution_count": 44,
   "id": "b7a80959-d837-40ff-bd23-4625c79cd3da",
   "metadata": {},
   "outputs": [
    {
     "data": {
      "text/html": [
       "<div>\n",
       "<style scoped>\n",
       "    .dataframe tbody tr th:only-of-type {\n",
       "        vertical-align: middle;\n",
       "    }\n",
       "\n",
       "    .dataframe tbody tr th {\n",
       "        vertical-align: top;\n",
       "    }\n",
       "\n",
       "    .dataframe thead th {\n",
       "        text-align: right;\n",
       "    }\n",
       "</style>\n",
       "<table border=\"1\" class=\"dataframe\">\n",
       "  <thead>\n",
       "    <tr style=\"text-align: right;\">\n",
       "      <th></th>\n",
       "      <th>Age</th>\n",
       "      <th>Gender</th>\n",
       "      <th>Marital Status</th>\n",
       "      <th>Education Level</th>\n",
       "      <th>Employment Status</th>\n",
       "      <th>Credit Utilization Ratio</th>\n",
       "      <th>Payment History</th>\n",
       "      <th>Number of Credit Accounts</th>\n",
       "      <th>Loan Amount</th>\n",
       "      <th>Interest Rate</th>\n",
       "      <th>Loan Term</th>\n",
       "      <th>Type of Loan</th>\n",
       "    </tr>\n",
       "  </thead>\n",
       "  <tbody>\n",
       "    <tr>\n",
       "      <th>0</th>\n",
       "      <td>60</td>\n",
       "      <td>1</td>\n",
       "      <td>1</td>\n",
       "      <td>2</td>\n",
       "      <td>0</td>\n",
       "      <td>0.22</td>\n",
       "      <td>2685.0</td>\n",
       "      <td>2</td>\n",
       "      <td>4675000</td>\n",
       "      <td>2.65</td>\n",
       "      <td>48</td>\n",
       "      <td>2</td>\n",
       "    </tr>\n",
       "    <tr>\n",
       "      <th>1</th>\n",
       "      <td>25</td>\n",
       "      <td>1</td>\n",
       "      <td>1</td>\n",
       "      <td>1</td>\n",
       "      <td>2</td>\n",
       "      <td>0.20</td>\n",
       "      <td>2371.0</td>\n",
       "      <td>9</td>\n",
       "      <td>3619000</td>\n",
       "      <td>5.19</td>\n",
       "      <td>60</td>\n",
       "      <td>0</td>\n",
       "    </tr>\n",
       "  </tbody>\n",
       "</table>\n",
       "</div>"
      ],
      "text/plain": [
       "   Age  Gender  Marital Status  Education Level  Employment Status  \\\n",
       "0   60       1               1                2                  0   \n",
       "1   25       1               1                1                  2   \n",
       "\n",
       "   Credit Utilization Ratio  Payment History  Number of Credit Accounts  \\\n",
       "0                      0.22           2685.0                          2   \n",
       "1                      0.20           2371.0                          9   \n",
       "\n",
       "   Loan Amount  Interest Rate  Loan Term  Type of Loan  \n",
       "0      4675000           2.65         48             2  \n",
       "1      3619000           5.19         60             0  "
      ]
     },
     "execution_count": 44,
     "metadata": {},
     "output_type": "execute_result"
    }
   ],
   "source": [
    "df.head(2)"
   ]
  },
  {
   "cell_type": "code",
   "execution_count": 45,
   "id": "7ab95d47-e11f-4173-9c44-219197ca1dd6",
   "metadata": {},
   "outputs": [],
   "source": [
    "df = df.drop(columns=[\"Gender\",\"Marital Status\"])\n",
    "x = df.drop(columns=[\"Type of Loan\"])\n",
    "y = df[\"Type of Loan\"]\n",
    "from sklearn.model_selection import train_test_split\n",
    "x_train,x_test,y_train,y_test = train_test_split(x,y,test_size=0.2, random_state = 42)"
   ]
  },
  {
   "cell_type": "code",
   "execution_count": 57,
   "id": "4e295b9d-75ef-4db4-a4c2-227f7defea6e",
   "metadata": {},
   "outputs": [
    {
     "name": "stderr",
     "output_type": "stream",
     "text": [
      "C:\\Users\\amaan\\anaconda3\\Lib\\site-packages\\sklearn\\ensemble\\_weight_boosting.py:527: FutureWarning: The SAMME.R algorithm (the default) is deprecated and will be removed in 1.6. Use the SAMME algorithm to circumvent this warning.\n",
      "  warnings.warn(\n"
     ]
    },
    {
     "name": "stdout",
     "output_type": "stream",
     "text": [
      "Ada Accuracy: 33.50%\n",
      "gb Accuracy: 33.50%\n"
     ]
    },
    {
     "name": "stderr",
     "output_type": "stream",
     "text": [
      "C:\\Users\\amaan\\anaconda3\\Lib\\site-packages\\xgboost\\core.py:158: UserWarning: [14:30:11] WARNING: D:\\bld\\xgboost-split_1737531313485\\work\\src\\learner.cc:740: \n",
      "Parameters: { \"use_label_encoder\" } are not used.\n",
      "\n",
      "  warnings.warn(smsg, UserWarning)\n"
     ]
    },
    {
     "name": "stdout",
     "output_type": "stream",
     "text": [
      "xgb Accuracy: 32.50%\n"
     ]
    }
   ],
   "source": [
    "from sklearn.ensemble import AdaBoostClassifier, GradientBoostingClassifier\n",
    "from xgboost import XGBClassifier\n",
    "from sklearn.metrics import accuracy_score\n",
    "\n",
    "ada = AdaBoostClassifier()\n",
    "ada.fit(x_train, y_train)\n",
    "y_pred_ada = ada.predict(x_test)\n",
    "accuracy_ada = accuracy_score(y_test,y_pred_ada)\n",
    "print(f\"Ada Accuracy: {accuracy_ada*100:.2f}%\")\n",
    "\n",
    "gb = GradientBoostingClassifier()\n",
    "gb.fit(x_train, y_train)\n",
    "y_pred_gb = gb.predict(x_test)\n",
    "accuracy_gb = accuracy_score(y_test,y_pred_gb)\n",
    "print(f\"gb Accuracy: {accuracy_gb*100:.2f}%\")\n",
    "\n",
    "\n",
    "xgb = XGBClassifier(use_label_encoder=False, eval_metric='mlogloss')\n",
    "xgb.fit(x_train, y_train)\n",
    "y_pred_xgb = xgb.predict(x_test)\n",
    "accuracy_xgb = accuracy_score(y_test,y_pred_xgb)\n",
    "print(f\"xgb Accuracy: {accuracy_xgb*100:.2f}%\")\n"
   ]
  },
  {
   "cell_type": "code",
   "execution_count": 61,
   "id": "2f1f2b11-9487-4f3b-a7b5-2eed73d8fe93",
   "metadata": {},
   "outputs": [
    {
     "ename": "ModuleNotFoundError",
     "evalue": "No module named 'catboost'",
     "output_type": "error",
     "traceback": [
      "\u001b[1;31m---------------------------------------------------------------------------\u001b[0m",
      "\u001b[1;31mModuleNotFoundError\u001b[0m                       Traceback (most recent call last)",
      "Cell \u001b[1;32mIn[61], line 1\u001b[0m\n\u001b[1;32m----> 1\u001b[0m \u001b[38;5;28;01mfrom\u001b[39;00m \u001b[38;5;21;01mcatboost\u001b[39;00m \u001b[38;5;28;01mimport\u001b[39;00m CatBoostClassifier\n\u001b[0;32m      3\u001b[0m cat \u001b[38;5;241m=\u001b[39m CatBoostClassifier(verbose\u001b[38;5;241m=\u001b[39m\u001b[38;5;241m0\u001b[39m)\n\u001b[0;32m      4\u001b[0m cat\u001b[38;5;241m.\u001b[39mfit(x_train, y_train)\n",
      "\u001b[1;31mModuleNotFoundError\u001b[0m: No module named 'catboost'"
     ]
    }
   ],
   "source": [
    "from catboost import CatBoostClassifier\n",
    "\n",
    "cat = CatBoostClassifier(verbose=0)\n",
    "cat.fit(x_train, y_train)\n",
    "y_pred_cat = cat.predict(x_test)\n",
    "accuracy_cat = accuracy_score(y_test, y_pred_cat)\n",
    "print(f\"CatBoost Accuracy: {accuracy_cat*100:.2f}%\")"
   ]
  },
  {
   "cell_type": "code",
   "execution_count": 64,
   "id": "90d61a61-3d29-4dbb-8a10-4826b8b33269",
   "metadata": {},
   "outputs": [
    {
     "name": "stdout",
     "output_type": "stream",
     "text": [
      "Requirement already satisfied: catboost in c:\\users\\amaan\\appdata\\local\\programs\\python\\python313\\lib\\site-packages (1.2.8)\n",
      "Requirement already satisfied: graphviz in c:\\users\\amaan\\appdata\\local\\programs\\python\\python313\\lib\\site-packages (from catboost) (0.21)\n",
      "Requirement already satisfied: matplotlib in c:\\users\\amaan\\appdata\\local\\programs\\python\\python313\\lib\\site-packages (from catboost) (3.10.6)\n",
      "Requirement already satisfied: numpy<3.0,>=1.16.0 in c:\\users\\amaan\\appdata\\local\\programs\\python\\python313\\lib\\site-packages (from catboost) (2.2.5)\n",
      "Requirement already satisfied: pandas>=0.24 in c:\\users\\amaan\\appdata\\local\\programs\\python\\python313\\lib\\site-packages (from catboost) (2.2.3)\n",
      "Requirement already satisfied: scipy in c:\\users\\amaan\\appdata\\local\\programs\\python\\python313\\lib\\site-packages (from catboost) (1.16.2)\n",
      "Requirement already satisfied: plotly in c:\\users\\amaan\\appdata\\local\\programs\\python\\python313\\lib\\site-packages (from catboost) (6.3.0)\n",
      "Requirement already satisfied: six in c:\\users\\amaan\\appdata\\local\\programs\\python\\python313\\lib\\site-packages (from catboost) (1.17.0)\n",
      "Requirement already satisfied: python-dateutil>=2.8.2 in c:\\users\\amaan\\appdata\\local\\programs\\python\\python313\\lib\\site-packages (from pandas>=0.24->catboost) (2.9.0.post0)\n",
      "Requirement already satisfied: pytz>=2020.1 in c:\\users\\amaan\\appdata\\local\\programs\\python\\python313\\lib\\site-packages (from pandas>=0.24->catboost) (2025.2)\n",
      "Requirement already satisfied: tzdata>=2022.7 in c:\\users\\amaan\\appdata\\local\\programs\\python\\python313\\lib\\site-packages (from pandas>=0.24->catboost) (2025.2)\n",
      "Requirement already satisfied: contourpy>=1.0.1 in c:\\users\\amaan\\appdata\\local\\programs\\python\\python313\\lib\\site-packages (from matplotlib->catboost) (1.3.3)\n",
      "Requirement already satisfied: cycler>=0.10 in c:\\users\\amaan\\appdata\\local\\programs\\python\\python313\\lib\\site-packages (from matplotlib->catboost) (0.12.1)\n",
      "Requirement already satisfied: fonttools>=4.22.0 in c:\\users\\amaan\\appdata\\local\\programs\\python\\python313\\lib\\site-packages (from matplotlib->catboost) (4.59.2)\n",
      "Requirement already satisfied: kiwisolver>=1.3.1 in c:\\users\\amaan\\appdata\\local\\programs\\python\\python313\\lib\\site-packages (from matplotlib->catboost) (1.4.9)\n",
      "Requirement already satisfied: packaging>=20.0 in c:\\users\\amaan\\appdata\\local\\programs\\python\\python313\\lib\\site-packages (from matplotlib->catboost) (24.2)\n",
      "Requirement already satisfied: pillow>=8 in c:\\users\\amaan\\appdata\\local\\programs\\python\\python313\\lib\\site-packages (from matplotlib->catboost) (11.2.1)\n",
      "Requirement already satisfied: pyparsing>=2.3.1 in c:\\users\\amaan\\appdata\\local\\programs\\python\\python313\\lib\\site-packages (from matplotlib->catboost) (3.2.3)\n",
      "Requirement already satisfied: narwhals>=1.15.1 in c:\\users\\amaan\\appdata\\local\\programs\\python\\python313\\lib\\site-packages (from plotly->catboost) (1.38.2)\n"
     ]
    },
    {
     "name": "stderr",
     "output_type": "stream",
     "text": [
      "\n",
      "[notice] A new release of pip is available: 24.3.1 -> 25.2\n",
      "[notice] To update, run: python.exe -m pip install --upgrade pip\n"
     ]
    }
   ],
   "source": [
    "!pip install catboost"
   ]
  }
 ],
 "metadata": {
  "kernelspec": {
   "display_name": "Python [conda env:base] *",
   "language": "python",
   "name": "conda-base-py"
  },
  "language_info": {
   "codemirror_mode": {
    "name": "ipython",
    "version": 3
   },
   "file_extension": ".py",
   "mimetype": "text/x-python",
   "name": "python",
   "nbconvert_exporter": "python",
   "pygments_lexer": "ipython3",
   "version": "3.12.3"
  }
 },
 "nbformat": 4,
 "nbformat_minor": 5
}
